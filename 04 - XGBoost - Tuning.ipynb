{
 "cells": [
  {
   "cell_type": "code",
   "execution_count": 19,
   "metadata": {
    "pycharm": {
     "is_executing": false
    }
   },
   "outputs": [],
   "source": [
    "import pandas as pd\n",
    "from xgboost import XGBClassifier\n",
    "from sklearn.model_selection import train_test_split\n",
    "from sklearn.metrics import accuracy_score  "
   ]
  },
  {
   "cell_type": "code",
   "execution_count": 35,
   "metadata": {
    "pycharm": {
     "is_executing": false,
     "name": "#%%\n"
    }
   },
   "outputs": [],
   "source": [
    "data = pd.read_csv('titanic.csv')"
   ]
  },
  {
   "cell_type": "code",
   "execution_count": 36,
   "metadata": {
    "pycharm": {
     "is_executing": false,
     "name": "#%%\n"
    }
   },
   "outputs": [],
   "source": [
    "data = data[['Pclass','Sex','Age','Survived','Parch','SibSp']]"
   ]
  },
  {
   "cell_type": "code",
   "execution_count": 37,
   "metadata": {
    "pycharm": {
     "is_executing": false,
     "name": "#%%\n"
    }
   },
   "outputs": [],
   "source": [
    "data = data[['Pclass','Sex','Age','Survived','SibSp']]"
   ]
  },
  {
   "cell_type": "code",
   "execution_count": 38,
   "metadata": {
    "pycharm": {
     "is_executing": false,
     "name": "#%%\n"
    }
   },
   "outputs": [
    {
     "data": {
      "text/html": [
       "<div>\n",
       "<style scoped>\n",
       "    .dataframe tbody tr th:only-of-type {\n",
       "        vertical-align: middle;\n",
       "    }\n",
       "\n",
       "    .dataframe tbody tr th {\n",
       "        vertical-align: top;\n",
       "    }\n",
       "\n",
       "    .dataframe thead th {\n",
       "        text-align: right;\n",
       "    }\n",
       "</style>\n",
       "<table border=\"1\" class=\"dataframe\">\n",
       "  <thead>\n",
       "    <tr style=\"text-align: right;\">\n",
       "      <th></th>\n",
       "      <th>Pclass</th>\n",
       "      <th>Sex</th>\n",
       "      <th>Age</th>\n",
       "      <th>Survived</th>\n",
       "      <th>SibSp</th>\n",
       "    </tr>\n",
       "  </thead>\n",
       "  <tbody>\n",
       "    <tr>\n",
       "      <th>0</th>\n",
       "      <td>3</td>\n",
       "      <td>male</td>\n",
       "      <td>22.0</td>\n",
       "      <td>0</td>\n",
       "      <td>1</td>\n",
       "    </tr>\n",
       "    <tr>\n",
       "      <th>1</th>\n",
       "      <td>1</td>\n",
       "      <td>female</td>\n",
       "      <td>38.0</td>\n",
       "      <td>1</td>\n",
       "      <td>1</td>\n",
       "    </tr>\n",
       "    <tr>\n",
       "      <th>2</th>\n",
       "      <td>3</td>\n",
       "      <td>female</td>\n",
       "      <td>26.0</td>\n",
       "      <td>1</td>\n",
       "      <td>0</td>\n",
       "    </tr>\n",
       "    <tr>\n",
       "      <th>3</th>\n",
       "      <td>1</td>\n",
       "      <td>female</td>\n",
       "      <td>35.0</td>\n",
       "      <td>1</td>\n",
       "      <td>1</td>\n",
       "    </tr>\n",
       "    <tr>\n",
       "      <th>4</th>\n",
       "      <td>3</td>\n",
       "      <td>male</td>\n",
       "      <td>35.0</td>\n",
       "      <td>0</td>\n",
       "      <td>0</td>\n",
       "    </tr>\n",
       "  </tbody>\n",
       "</table>\n",
       "</div>"
      ],
      "text/plain": [
       "   Pclass     Sex   Age  Survived  SibSp\n",
       "0       3    male  22.0         0      1\n",
       "1       1  female  38.0         1      1\n",
       "2       3  female  26.0         1      0\n",
       "3       1  female  35.0         1      1\n",
       "4       3    male  35.0         0      0"
      ]
     },
     "execution_count": 38,
     "metadata": {},
     "output_type": "execute_result"
    }
   ],
   "source": [
    "data.head()"
   ]
  },
  {
   "cell_type": "code",
   "execution_count": 39,
   "metadata": {
    "pycharm": {
     "is_executing": false,
     "name": "#%%\n"
    }
   },
   "outputs": [],
   "source": [
    "data['Sex'] = data['Sex'].map({'male':0,'female':1})"
   ]
  },
  {
   "cell_type": "code",
   "execution_count": 40,
   "metadata": {
    "pycharm": {
     "is_executing": false,
     "name": "#%%\n"
    }
   },
   "outputs": [],
   "source": [
    "data = data.dropna()"
   ]
  },
  {
   "cell_type": "code",
   "execution_count": 41,
   "metadata": {
    "pycharm": {
     "is_executing": false,
     "name": "#%%\n"
    }
   },
   "outputs": [],
   "source": [
    "# data[\"Age\"].fillna(data[\"Age\"].median(),inplace=True)"
   ]
  },
  {
   "cell_type": "code",
   "execution_count": 42,
   "metadata": {
    "pycharm": {
     "is_executing": false,
     "name": "#%%\n"
    }
   },
   "outputs": [],
   "source": [
    "X = data.drop('Survived',axis=1)\n",
    "y = data['Survived']"
   ]
  },
  {
   "cell_type": "code",
   "execution_count": 54,
   "metadata": {
    "pycharm": {
     "is_executing": false,
     "name": "#%%\n"
    }
   },
   "outputs": [],
   "source": [
    "X_train, X_test, y_train, y_test = train_test_split(X,y,test_size = 0.33, random_state=1)\n",
    "eval_set = [(X_train,y_train),(X_test,y_test)]"
   ]
  },
  {
   "cell_type": "code",
   "execution_count": 55,
   "metadata": {
    "pycharm": {
     "is_executing": false,
     "name": "#%%\n"
    },
    "scrolled": true
   },
   "outputs": [
    {
     "name": "stdout",
     "output_type": "stream",
     "text": [
      "[0]\tvalidation_0-error:0.14226\tvalidation_0-logloss:0.56295\tvalidation_1-error:0.16102\tvalidation_1-logloss:0.56517\n",
      "[1]\tvalidation_0-error:0.14226\tvalidation_0-logloss:0.49195\tvalidation_1-error:0.16525\tvalidation_1-logloss:0.49456\n",
      "[2]\tvalidation_0-error:0.13808\tvalidation_0-logloss:0.44867\tvalidation_1-error:0.16525\tvalidation_1-logloss:0.45148\n",
      "[3]\tvalidation_0-error:0.15063\tvalidation_0-logloss:0.41830\tvalidation_1-error:0.16102\tvalidation_1-logloss:0.42231\n",
      "[4]\tvalidation_0-error:0.14644\tvalidation_0-logloss:0.39761\tvalidation_1-error:0.15678\tvalidation_1-logloss:0.40514\n",
      "[5]\tvalidation_0-error:0.14435\tvalidation_0-logloss:0.38060\tvalidation_1-error:0.16102\tvalidation_1-logloss:0.39073\n",
      "[6]\tvalidation_0-error:0.14226\tvalidation_0-logloss:0.36771\tvalidation_1-error:0.15678\tvalidation_1-logloss:0.37907\n",
      "[7]\tvalidation_0-error:0.13598\tvalidation_0-logloss:0.35744\tvalidation_1-error:0.15678\tvalidation_1-logloss:0.37339\n",
      "[8]\tvalidation_0-error:0.13389\tvalidation_0-logloss:0.35067\tvalidation_1-error:0.16102\tvalidation_1-logloss:0.37241\n",
      "[9]\tvalidation_0-error:0.13389\tvalidation_0-logloss:0.34561\tvalidation_1-error:0.16102\tvalidation_1-logloss:0.37291\n",
      "[10]\tvalidation_0-error:0.13389\tvalidation_0-logloss:0.33991\tvalidation_1-error:0.15678\tvalidation_1-logloss:0.37048\n",
      "[11]\tvalidation_0-error:0.12971\tvalidation_0-logloss:0.33464\tvalidation_1-error:0.16525\tvalidation_1-logloss:0.36984\n",
      "[12]\tvalidation_0-error:0.13180\tvalidation_0-logloss:0.33083\tvalidation_1-error:0.16525\tvalidation_1-logloss:0.37048\n",
      "[13]\tvalidation_0-error:0.12971\tvalidation_0-logloss:0.32588\tvalidation_1-error:0.16525\tvalidation_1-logloss:0.37087\n",
      "[14]\tvalidation_0-error:0.12762\tvalidation_0-logloss:0.32069\tvalidation_1-error:0.16525\tvalidation_1-logloss:0.36984\n",
      "[15]\tvalidation_0-error:0.12552\tvalidation_0-logloss:0.31785\tvalidation_1-error:0.17373\tvalidation_1-logloss:0.37143\n",
      "[16]\tvalidation_0-error:0.12552\tvalidation_0-logloss:0.31493\tvalidation_1-error:0.16949\tvalidation_1-logloss:0.37110\n",
      "[17]\tvalidation_0-error:0.12552\tvalidation_0-logloss:0.31223\tvalidation_1-error:0.16949\tvalidation_1-logloss:0.37102\n",
      "[18]\tvalidation_0-error:0.12552\tvalidation_0-logloss:0.31053\tvalidation_1-error:0.16949\tvalidation_1-logloss:0.37216\n",
      "[19]\tvalidation_0-error:0.12343\tvalidation_0-logloss:0.30860\tvalidation_1-error:0.16949\tvalidation_1-logloss:0.37203\n",
      "[20]\tvalidation_0-error:0.12343\tvalidation_0-logloss:0.30592\tvalidation_1-error:0.16949\tvalidation_1-logloss:0.37528\n",
      "[21]\tvalidation_0-error:0.12343\tvalidation_0-logloss:0.30432\tvalidation_1-error:0.17373\tvalidation_1-logloss:0.37771\n",
      "[22]\tvalidation_0-error:0.12134\tvalidation_0-logloss:0.30325\tvalidation_1-error:0.17373\tvalidation_1-logloss:0.37860\n",
      "[23]\tvalidation_0-error:0.12134\tvalidation_0-logloss:0.30004\tvalidation_1-error:0.17373\tvalidation_1-logloss:0.37656\n",
      "[24]\tvalidation_0-error:0.12134\tvalidation_0-logloss:0.29863\tvalidation_1-error:0.17373\tvalidation_1-logloss:0.37735\n",
      "[25]\tvalidation_0-error:0.11715\tvalidation_0-logloss:0.29408\tvalidation_1-error:0.16525\tvalidation_1-logloss:0.37896\n",
      "[26]\tvalidation_0-error:0.11715\tvalidation_0-logloss:0.29261\tvalidation_1-error:0.16525\tvalidation_1-logloss:0.37809\n",
      "[27]\tvalidation_0-error:0.11715\tvalidation_0-logloss:0.29129\tvalidation_1-error:0.16525\tvalidation_1-logloss:0.37706\n",
      "[28]\tvalidation_0-error:0.11715\tvalidation_0-logloss:0.28969\tvalidation_1-error:0.16949\tvalidation_1-logloss:0.38196\n",
      "[29]\tvalidation_0-error:0.11715\tvalidation_0-logloss:0.28897\tvalidation_1-error:0.16949\tvalidation_1-logloss:0.38139\n",
      "[30]\tvalidation_0-error:0.11506\tvalidation_0-logloss:0.28826\tvalidation_1-error:0.17373\tvalidation_1-logloss:0.38207\n",
      "[31]\tvalidation_0-error:0.11506\tvalidation_0-logloss:0.28625\tvalidation_1-error:0.16949\tvalidation_1-logloss:0.38180\n",
      "[32]\tvalidation_0-error:0.11088\tvalidation_0-logloss:0.28568\tvalidation_1-error:0.16949\tvalidation_1-logloss:0.38116\n",
      "[33]\tvalidation_0-error:0.11297\tvalidation_0-logloss:0.28475\tvalidation_1-error:0.18220\tvalidation_1-logloss:0.38505\n",
      "[34]\tvalidation_0-error:0.11297\tvalidation_0-logloss:0.28408\tvalidation_1-error:0.18220\tvalidation_1-logloss:0.38545\n",
      "[35]\tvalidation_0-error:0.11088\tvalidation_0-logloss:0.28365\tvalidation_1-error:0.17797\tvalidation_1-logloss:0.38436\n",
      "[36]\tvalidation_0-error:0.11088\tvalidation_0-logloss:0.28269\tvalidation_1-error:0.17797\tvalidation_1-logloss:0.38351\n",
      "[37]\tvalidation_0-error:0.11297\tvalidation_0-logloss:0.28152\tvalidation_1-error:0.17797\tvalidation_1-logloss:0.38780\n",
      "[38]\tvalidation_0-error:0.11506\tvalidation_0-logloss:0.27895\tvalidation_1-error:0.16949\tvalidation_1-logloss:0.38932\n",
      "[39]\tvalidation_0-error:0.10879\tvalidation_0-logloss:0.27502\tvalidation_1-error:0.18220\tvalidation_1-logloss:0.39114\n",
      "[40]\tvalidation_0-error:0.11088\tvalidation_0-logloss:0.27454\tvalidation_1-error:0.18220\tvalidation_1-logloss:0.39211\n",
      "[41]\tvalidation_0-error:0.10879\tvalidation_0-logloss:0.27302\tvalidation_1-error:0.16949\tvalidation_1-logloss:0.39222\n",
      "[42]\tvalidation_0-error:0.10879\tvalidation_0-logloss:0.27040\tvalidation_1-error:0.16525\tvalidation_1-logloss:0.39132\n",
      "[43]\tvalidation_0-error:0.10460\tvalidation_0-logloss:0.26969\tvalidation_1-error:0.17373\tvalidation_1-logloss:0.39366\n",
      "[44]\tvalidation_0-error:0.10879\tvalidation_0-logloss:0.26921\tvalidation_1-error:0.17797\tvalidation_1-logloss:0.39483\n",
      "[45]\tvalidation_0-error:0.10460\tvalidation_0-logloss:0.26860\tvalidation_1-error:0.17373\tvalidation_1-logloss:0.39316\n",
      "[46]\tvalidation_0-error:0.10251\tvalidation_0-logloss:0.26814\tvalidation_1-error:0.16525\tvalidation_1-logloss:0.39451\n",
      "[47]\tvalidation_0-error:0.10251\tvalidation_0-logloss:0.26717\tvalidation_1-error:0.16949\tvalidation_1-logloss:0.39421\n",
      "[48]\tvalidation_0-error:0.10251\tvalidation_0-logloss:0.26671\tvalidation_1-error:0.16949\tvalidation_1-logloss:0.39475\n",
      "[49]\tvalidation_0-error:0.10460\tvalidation_0-logloss:0.26638\tvalidation_1-error:0.16949\tvalidation_1-logloss:0.39520\n",
      "[50]\tvalidation_0-error:0.10251\tvalidation_0-logloss:0.26591\tvalidation_1-error:0.16949\tvalidation_1-logloss:0.39598\n",
      "[51]\tvalidation_0-error:0.10251\tvalidation_0-logloss:0.26550\tvalidation_1-error:0.16949\tvalidation_1-logloss:0.39675\n",
      "[52]\tvalidation_0-error:0.10460\tvalidation_0-logloss:0.26492\tvalidation_1-error:0.17797\tvalidation_1-logloss:0.39772\n",
      "[53]\tvalidation_0-error:0.10251\tvalidation_0-logloss:0.26468\tvalidation_1-error:0.17797\tvalidation_1-logloss:0.39837\n",
      "[54]\tvalidation_0-error:0.10460\tvalidation_0-logloss:0.26435\tvalidation_1-error:0.17797\tvalidation_1-logloss:0.39805\n",
      "[55]\tvalidation_0-error:0.10460\tvalidation_0-logloss:0.26353\tvalidation_1-error:0.17373\tvalidation_1-logloss:0.39846\n",
      "[56]\tvalidation_0-error:0.10460\tvalidation_0-logloss:0.26272\tvalidation_1-error:0.17373\tvalidation_1-logloss:0.39994\n",
      "[57]\tvalidation_0-error:0.10460\tvalidation_0-logloss:0.26239\tvalidation_1-error:0.17373\tvalidation_1-logloss:0.40100\n",
      "[58]\tvalidation_0-error:0.10460\tvalidation_0-logloss:0.26212\tvalidation_1-error:0.17373\tvalidation_1-logloss:0.40200\n",
      "[59]\tvalidation_0-error:0.10460\tvalidation_0-logloss:0.26150\tvalidation_1-error:0.17373\tvalidation_1-logloss:0.40175\n",
      "[60]\tvalidation_0-error:0.10251\tvalidation_0-logloss:0.26100\tvalidation_1-error:0.17373\tvalidation_1-logloss:0.40165\n",
      "[61]\tvalidation_0-error:0.10460\tvalidation_0-logloss:0.26053\tvalidation_1-error:0.17373\tvalidation_1-logloss:0.40178\n",
      "[62]\tvalidation_0-error:0.10460\tvalidation_0-logloss:0.26013\tvalidation_1-error:0.17373\tvalidation_1-logloss:0.40232\n",
      "[63]\tvalidation_0-error:0.10460\tvalidation_0-logloss:0.25906\tvalidation_1-error:0.17373\tvalidation_1-logloss:0.40112\n",
      "[64]\tvalidation_0-error:0.10460\tvalidation_0-logloss:0.25748\tvalidation_1-error:0.17373\tvalidation_1-logloss:0.40207\n",
      "[65]\tvalidation_0-error:0.10460\tvalidation_0-logloss:0.25687\tvalidation_1-error:0.17373\tvalidation_1-logloss:0.40332\n",
      "[66]\tvalidation_0-error:0.10460\tvalidation_0-logloss:0.25621\tvalidation_1-error:0.17373\tvalidation_1-logloss:0.40345\n",
      "[67]\tvalidation_0-error:0.10251\tvalidation_0-logloss:0.25554\tvalidation_1-error:0.17373\tvalidation_1-logloss:0.40329\n",
      "[68]\tvalidation_0-error:0.10251\tvalidation_0-logloss:0.25501\tvalidation_1-error:0.17373\tvalidation_1-logloss:0.40623\n",
      "[69]\tvalidation_0-error:0.10042\tvalidation_0-logloss:0.25451\tvalidation_1-error:0.17373\tvalidation_1-logloss:0.40801\n",
      "[70]\tvalidation_0-error:0.10042\tvalidation_0-logloss:0.25343\tvalidation_1-error:0.17373\tvalidation_1-logloss:0.40758\n"
     ]
    },
    {
     "name": "stdout",
     "output_type": "stream",
     "text": [
      "[71]\tvalidation_0-error:0.10042\tvalidation_0-logloss:0.25319\tvalidation_1-error:0.17373\tvalidation_1-logloss:0.40851\n",
      "[72]\tvalidation_0-error:0.09833\tvalidation_0-logloss:0.25274\tvalidation_1-error:0.17373\tvalidation_1-logloss:0.40748\n",
      "[73]\tvalidation_0-error:0.10042\tvalidation_0-logloss:0.25235\tvalidation_1-error:0.17373\tvalidation_1-logloss:0.40957\n",
      "[74]\tvalidation_0-error:0.10042\tvalidation_0-logloss:0.25214\tvalidation_1-error:0.17373\tvalidation_1-logloss:0.40946\n",
      "[75]\tvalidation_0-error:0.09833\tvalidation_0-logloss:0.25190\tvalidation_1-error:0.17373\tvalidation_1-logloss:0.40885\n",
      "[76]\tvalidation_0-error:0.10251\tvalidation_0-logloss:0.25169\tvalidation_1-error:0.17797\tvalidation_1-logloss:0.40989\n",
      "[77]\tvalidation_0-error:0.10042\tvalidation_0-logloss:0.25150\tvalidation_1-error:0.17797\tvalidation_1-logloss:0.40984\n",
      "[78]\tvalidation_0-error:0.10042\tvalidation_0-logloss:0.25132\tvalidation_1-error:0.17797\tvalidation_1-logloss:0.40934\n",
      "[79]\tvalidation_0-error:0.09833\tvalidation_0-logloss:0.25090\tvalidation_1-error:0.17373\tvalidation_1-logloss:0.40951\n",
      "[80]\tvalidation_0-error:0.09833\tvalidation_0-logloss:0.25067\tvalidation_1-error:0.17373\tvalidation_1-logloss:0.41002\n",
      "[81]\tvalidation_0-error:0.09833\tvalidation_0-logloss:0.24879\tvalidation_1-error:0.17373\tvalidation_1-logloss:0.41229\n",
      "[82]\tvalidation_0-error:0.09833\tvalidation_0-logloss:0.24834\tvalidation_1-error:0.17373\tvalidation_1-logloss:0.41334\n",
      "[83]\tvalidation_0-error:0.09833\tvalidation_0-logloss:0.24815\tvalidation_1-error:0.17373\tvalidation_1-logloss:0.41232\n",
      "[84]\tvalidation_0-error:0.09833\tvalidation_0-logloss:0.24723\tvalidation_1-error:0.17373\tvalidation_1-logloss:0.41534\n",
      "[85]\tvalidation_0-error:0.09833\tvalidation_0-logloss:0.24678\tvalidation_1-error:0.17373\tvalidation_1-logloss:0.41363\n",
      "[86]\tvalidation_0-error:0.09833\tvalidation_0-logloss:0.24620\tvalidation_1-error:0.17373\tvalidation_1-logloss:0.41627\n",
      "[87]\tvalidation_0-error:0.09833\tvalidation_0-logloss:0.24457\tvalidation_1-error:0.17373\tvalidation_1-logloss:0.41762\n",
      "[88]\tvalidation_0-error:0.09833\tvalidation_0-logloss:0.24422\tvalidation_1-error:0.17373\tvalidation_1-logloss:0.41784\n",
      "[89]\tvalidation_0-error:0.09623\tvalidation_0-logloss:0.24358\tvalidation_1-error:0.17373\tvalidation_1-logloss:0.41796\n",
      "[90]\tvalidation_0-error:0.09623\tvalidation_0-logloss:0.24329\tvalidation_1-error:0.17373\tvalidation_1-logloss:0.41865\n",
      "[91]\tvalidation_0-error:0.09414\tvalidation_0-logloss:0.24194\tvalidation_1-error:0.17797\tvalidation_1-logloss:0.41871\n",
      "[92]\tvalidation_0-error:0.09623\tvalidation_0-logloss:0.24155\tvalidation_1-error:0.17373\tvalidation_1-logloss:0.42114\n",
      "[93]\tvalidation_0-error:0.09623\tvalidation_0-logloss:0.24142\tvalidation_1-error:0.17373\tvalidation_1-logloss:0.42120\n",
      "[94]\tvalidation_0-error:0.09623\tvalidation_0-logloss:0.24025\tvalidation_1-error:0.17373\tvalidation_1-logloss:0.42097\n",
      "[95]\tvalidation_0-error:0.09623\tvalidation_0-logloss:0.23989\tvalidation_1-error:0.17373\tvalidation_1-logloss:0.42197\n",
      "[96]\tvalidation_0-error:0.09623\tvalidation_0-logloss:0.23865\tvalidation_1-error:0.16949\tvalidation_1-logloss:0.42219\n",
      "[97]\tvalidation_0-error:0.09623\tvalidation_0-logloss:0.23838\tvalidation_1-error:0.16949\tvalidation_1-logloss:0.42344\n",
      "[98]\tvalidation_0-error:0.09623\tvalidation_0-logloss:0.23774\tvalidation_1-error:0.16949\tvalidation_1-logloss:0.42206\n",
      "[99]\tvalidation_0-error:0.09414\tvalidation_0-logloss:0.23757\tvalidation_1-error:0.17373\tvalidation_1-logloss:0.42297\n"
     ]
    },
    {
     "data": {
      "text/plain": [
       "XGBClassifier(base_score=0.5, booster=None, colsample_bylevel=1,\n",
       "              colsample_bynode=1, colsample_bytree=1, gamma=0, gpu_id=-1,\n",
       "              importance_type='gain', interaction_constraints=None,\n",
       "              learning_rate=0.300000012, max_delta_step=0, max_depth=6,\n",
       "              min_child_weight=1, missing=nan, monotone_constraints=None,\n",
       "              n_estimators=100, n_jobs=0, num_parallel_tree=1,\n",
       "              objective='binary:logistic', random_state=0, reg_alpha=0,\n",
       "              reg_lambda=1, scale_pos_weight=1, subsample=1, tree_method=None,\n",
       "              validate_parameters=False, verbosity=None)"
      ]
     },
     "execution_count": 55,
     "metadata": {},
     "output_type": "execute_result"
    }
   ],
   "source": [
    "model = XGBClassifier()\n",
    "model.fit(X_train, y_train, eval_metric=['error','logloss'], eval_set=eval_set,verbose=True)"
   ]
  },
  {
   "cell_type": "code",
   "execution_count": 57,
   "metadata": {},
   "outputs": [],
   "source": [
    "result = model.evals_result()\n"
   ]
  },
  {
   "cell_type": "code",
   "execution_count": 47,
   "metadata": {
    "pycharm": {
     "is_executing": false,
     "name": "#%%\n"
    }
   },
   "outputs": [],
   "source": [
    "y_pred = model.predict(X_test)\n",
    "predictions = [round(value) for value in y_pred]"
   ]
  },
  {
   "cell_type": "code",
   "execution_count": 48,
   "metadata": {
    "pycharm": {
     "is_executing": false,
     "name": "#%%\n"
    }
   },
   "outputs": [
    {
     "name": "stdout",
     "output_type": "stream",
     "text": [
      "Accuracy: 87.15%\n"
     ]
    }
   ],
   "source": [
    "accuracy = accuracy_score(y_test, predictions)\n",
    "print(\"Accuracy: %.2f%%\" % (accuracy*100.0))"
   ]
  },
  {
   "cell_type": "code",
   "execution_count": 13,
   "metadata": {
    "pycharm": {
     "is_executing": false,
     "name": "#%%\n"
    }
   },
   "outputs": [],
   "source": [
    "# import pickle\n",
    "# pickle.dump(model,open(\"myModel.dat\",\"wb\"))"
   ]
  },
  {
   "cell_type": "code",
   "execution_count": 14,
   "metadata": {
    "pycharm": {
     "is_executing": false,
     "name": "#%%\n"
    }
   },
   "outputs": [],
   "source": [
    "# loaded_model = pickle.load(open(\"myModel.dat\",\"rb\"))"
   ]
  },
  {
   "cell_type": "code",
   "execution_count": 15,
   "metadata": {
    "pycharm": {
     "is_executing": false,
     "name": "#%%\n"
    }
   },
   "outputs": [],
   "source": [
    "# y_pred = loaded_model.predict(X_test)\n",
    "# predictions = [round(value) for value in y_pred]"
   ]
  },
  {
   "cell_type": "code",
   "execution_count": 16,
   "metadata": {
    "pycharm": {
     "is_executing": false,
     "name": "#%%\n"
    }
   },
   "outputs": [
    {
     "name": "stdout",
     "output_type": "stream",
     "text": [
      "Accuracy: 84.36%\n"
     ]
    }
   ],
   "source": [
    "# accuracy = accuracy_score(y_test, predictions)\n",
    "# print(\"Accuracy: %.2f%%\" % (accuracy*100.0))"
   ]
  },
  {
   "cell_type": "code",
   "execution_count": 17,
   "metadata": {
    "pycharm": {
     "is_executing": false,
     "name": "#%%\n"
    }
   },
   "outputs": [
    {
     "data": {
      "image/png": "[encoded data removed]",
      "text/plain": [
       "<Figure size 432x288 with 1 Axes>"
      ]
     },
     "metadata": {
      "needs_background": "light"
     },
     "output_type": "display_data"
    }
   ],
   "source": [
    "from xgboost import plot_importance\n",
    "from matplotlib import pyplot\n",
    "plot_importance(model)\n",
    "pyplot.show()"
   ]
  },
  {
   "cell_type": "code",
   "execution_count": 120,
   "metadata": {
    "pycharm": {
     "is_executing": false,
     "name": "#%%\n"
    }
   },
   "outputs": [],
   "source": [
    "\n"
   ]
  }
 ],
 "metadata": {
  "kernelspec": {
   "display_name": "Python 3",
   "language": "python",
   "name": "python3"
  },
  "language_info": {
   "codemirror_mode": {
    "name": "ipython",
    "version": 3
   },
   "file_extension": ".py",
   "mimetype": "text/x-python",
   "name": "python",
   "nbconvert_exporter": "python",
   "pygments_lexer": "ipython3",
   "version": "3.6.9"
  },
  "pycharm": {
   "stem_cell": {
    "cell_type": "raw",
    "metadata": {
     "collapsed": false
    },
    "source": []
   }
  }
 },
 "nbformat": 4,
 "nbformat_minor": 1
}
