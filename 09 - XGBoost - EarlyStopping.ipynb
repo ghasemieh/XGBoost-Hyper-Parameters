{
 "cells": [
  {
   "cell_type": "code",
   "execution_count": 11,
   "metadata": {},
   "outputs": [],
   "source": [
    "from numpy import loadtxt \n",
    "from xgboost import XGBClassifier \n",
    "from sklearn.model_selection import train_test_split \n",
    "from sklearn.metrics import accuracy_score "
   ]
  },
  {
   "cell_type": "code",
   "execution_count": 12,
   "metadata": {},
   "outputs": [],
   "source": [
    "dataset = loadtxt('pima.txt', delimiter=\",\")"
   ]
  },
  {
   "cell_type": "code",
   "execution_count": 13,
   "metadata": {},
   "outputs": [
    {
     "data": {
      "text/plain": [
       "array([[  6.   , 148.   ,  72.   , ...,   0.627,  50.   ,   1.   ],\n",
       "       [  1.   ,  85.   ,  66.   , ...,   0.351,  31.   ,   0.   ],\n",
       "       [  8.   , 183.   ,  64.   , ...,   0.672,  32.   ,   1.   ],\n",
       "       ...,\n",
       "       [  5.   , 121.   ,  72.   , ...,   0.245,  30.   ,   0.   ],\n",
       "       [  1.   , 126.   ,  60.   , ...,   0.349,  47.   ,   1.   ],\n",
       "       [  1.   ,  93.   ,  70.   , ...,   0.315,  23.   ,   0.   ]])"
      ]
     },
     "execution_count": 13,
     "metadata": {},
     "output_type": "execute_result"
    }
   ],
   "source": [
    "dataset"
   ]
  },
  {
   "cell_type": "code",
   "execution_count": 14,
   "metadata": {},
   "outputs": [],
   "source": [
    "X = dataset[:,0:8] \n",
    "Y = dataset[:,8]"
   ]
  },
  {
   "cell_type": "code",
   "execution_count": 15,
   "metadata": {},
   "outputs": [],
   "source": [
    "seed = 7 \n",
    "test_size = 0.20\n",
    "\n",
    "X_train, X_test, y_train, y_test = train_test_split(X, Y, test_size=test_size, random_state=seed) "
   ]
  },
  {
   "cell_type": "code",
   "execution_count": 6,
   "metadata": {
    "scrolled": true
   },
   "outputs": [
    {
     "data": {
      "text/plain": [
       "XGBClassifier(base_score=0.5, booster='gbtree', colsample_bylevel=1,\n",
       "       colsample_bytree=1, gamma=0, learning_rate=0.1, max_delta_step=0,\n",
       "       max_depth=3, min_child_weight=1, missing=None, n_estimators=100,\n",
       "       n_jobs=1, nthread=None, objective='binary:logistic', random_state=0,\n",
       "       reg_alpha=0, reg_lambda=1, scale_pos_weight=1, seed=None,\n",
       "       silent=True, subsample=1)"
      ]
     },
     "execution_count": 6,
     "metadata": {},
     "output_type": "execute_result"
    }
   ],
   "source": [
    "model = XGBClassifier() \n",
    "model.fit(X, Y)"
   ]
  },
  {
   "cell_type": "code",
   "execution_count": 16,
   "metadata": {},
   "outputs": [
    {
     "name": "stdout",
     "output_type": "stream",
     "text": [
      "[0]\tvalidation_0-error:0.214286\n",
      "Will train until validation_0-error hasn't improved in 60 rounds.\n",
      "[1]\tvalidation_0-error:0.214286\n",
      "[2]\tvalidation_0-error:0.253247\n",
      "[3]\tvalidation_0-error:0.227273\n",
      "[4]\tvalidation_0-error:0.220779\n",
      "[5]\tvalidation_0-error:0.220779\n",
      "[6]\tvalidation_0-error:0.220779\n",
      "[7]\tvalidation_0-error:0.227273\n",
      "[8]\tvalidation_0-error:0.233766\n",
      "[9]\tvalidation_0-error:0.233766\n",
      "[10]\tvalidation_0-error:0.233766\n",
      "[11]\tvalidation_0-error:0.24026\n",
      "[12]\tvalidation_0-error:0.24026\n",
      "[13]\tvalidation_0-error:0.233766\n",
      "[14]\tvalidation_0-error:0.227273\n",
      "[15]\tvalidation_0-error:0.233766\n",
      "[16]\tvalidation_0-error:0.233766\n",
      "[17]\tvalidation_0-error:0.227273\n",
      "[18]\tvalidation_0-error:0.227273\n",
      "[19]\tvalidation_0-error:0.220779\n",
      "[20]\tvalidation_0-error:0.227273\n",
      "[21]\tvalidation_0-error:0.233766\n",
      "[22]\tvalidation_0-error:0.227273\n",
      "[23]\tvalidation_0-error:0.220779\n",
      "[24]\tvalidation_0-error:0.233766\n",
      "[25]\tvalidation_0-error:0.214286\n",
      "[26]\tvalidation_0-error:0.214286\n",
      "[27]\tvalidation_0-error:0.214286\n",
      "[28]\tvalidation_0-error:0.207792\n",
      "[29]\tvalidation_0-error:0.207792\n",
      "[30]\tvalidation_0-error:0.220779\n",
      "[31]\tvalidation_0-error:0.207792\n",
      "[32]\tvalidation_0-error:0.207792\n",
      "[33]\tvalidation_0-error:0.220779\n",
      "[34]\tvalidation_0-error:0.214286\n",
      "[35]\tvalidation_0-error:0.207792\n",
      "[36]\tvalidation_0-error:0.207792\n",
      "[37]\tvalidation_0-error:0.214286\n",
      "[38]\tvalidation_0-error:0.214286\n",
      "[39]\tvalidation_0-error:0.214286\n",
      "[40]\tvalidation_0-error:0.214286\n",
      "[41]\tvalidation_0-error:0.207792\n",
      "[42]\tvalidation_0-error:0.207792\n",
      "[43]\tvalidation_0-error:0.220779\n",
      "[44]\tvalidation_0-error:0.214286\n",
      "[45]\tvalidation_0-error:0.201299\n",
      "[46]\tvalidation_0-error:0.194805\n",
      "[47]\tvalidation_0-error:0.201299\n",
      "[48]\tvalidation_0-error:0.194805\n",
      "[49]\tvalidation_0-error:0.188312\n",
      "[50]\tvalidation_0-error:0.181818\n",
      "[51]\tvalidation_0-error:0.188312\n",
      "[52]\tvalidation_0-error:0.181818\n",
      "[53]\tvalidation_0-error:0.181818\n",
      "[54]\tvalidation_0-error:0.188312\n",
      "[55]\tvalidation_0-error:0.188312\n",
      "[56]\tvalidation_0-error:0.188312\n",
      "[57]\tvalidation_0-error:0.181818\n",
      "[58]\tvalidation_0-error:0.188312\n",
      "[59]\tvalidation_0-error:0.188312\n",
      "[60]\tvalidation_0-error:0.181818\n",
      "[61]\tvalidation_0-error:0.188312\n",
      "[62]\tvalidation_0-error:0.188312\n",
      "[63]\tvalidation_0-error:0.188312\n",
      "[64]\tvalidation_0-error:0.194805\n",
      "[65]\tvalidation_0-error:0.194805\n",
      "[66]\tvalidation_0-error:0.188312\n",
      "[67]\tvalidation_0-error:0.188312\n",
      "[68]\tvalidation_0-error:0.194805\n",
      "[69]\tvalidation_0-error:0.194805\n",
      "[70]\tvalidation_0-error:0.194805\n",
      "[71]\tvalidation_0-error:0.188312\n",
      "[72]\tvalidation_0-error:0.188312\n",
      "[73]\tvalidation_0-error:0.181818\n",
      "[74]\tvalidation_0-error:0.175325\n",
      "[75]\tvalidation_0-error:0.181818\n",
      "[76]\tvalidation_0-error:0.181818\n",
      "[77]\tvalidation_0-error:0.181818\n",
      "[78]\tvalidation_0-error:0.181818\n",
      "[79]\tvalidation_0-error:0.188312\n",
      "[80]\tvalidation_0-error:0.188312\n",
      "[81]\tvalidation_0-error:0.194805\n",
      "[82]\tvalidation_0-error:0.181818\n",
      "[83]\tvalidation_0-error:0.181818\n",
      "[84]\tvalidation_0-error:0.188312\n",
      "[85]\tvalidation_0-error:0.194805\n",
      "[86]\tvalidation_0-error:0.188312\n",
      "[87]\tvalidation_0-error:0.194805\n",
      "[88]\tvalidation_0-error:0.188312\n",
      "[89]\tvalidation_0-error:0.188312\n",
      "[90]\tvalidation_0-error:0.188312\n",
      "[91]\tvalidation_0-error:0.188312\n",
      "[92]\tvalidation_0-error:0.181818\n",
      "[93]\tvalidation_0-error:0.188312\n",
      "[94]\tvalidation_0-error:0.181818\n",
      "[95]\tvalidation_0-error:0.194805\n",
      "[96]\tvalidation_0-error:0.181818\n",
      "[97]\tvalidation_0-error:0.188312\n",
      "[98]\tvalidation_0-error:0.188312\n",
      "[99]\tvalidation_0-error:0.188312\n"
     ]
    },
    {
     "data": {
      "text/plain": [
       "XGBClassifier(base_score=0.5, booster='gbtree', colsample_bylevel=1,\n",
       "       colsample_bytree=1, gamma=0, learning_rate=0.1, max_delta_step=0,\n",
       "       max_depth=3, min_child_weight=1, missing=None, n_estimators=100,\n",
       "       n_jobs=1, nthread=None, objective='binary:logistic', random_state=0,\n",
       "       reg_alpha=0, reg_lambda=1, scale_pos_weight=1, seed=None,\n",
       "       silent=True, subsample=1)"
      ]
     },
     "execution_count": 16,
     "metadata": {},
     "output_type": "execute_result"
    }
   ],
   "source": [
    "eval_set = [(X_test, y_test)] \n",
    "model.fit(X_train, y_train, eval_metric=\"error\",early_stopping_rounds=60, eval_set=eval_set, verbose=True)"
   ]
  },
  {
   "cell_type": "markdown",
   "metadata": {},
   "source": [
    "> Take note that the parameter has been added. The parameter is early_stopping_rounds=36"
   ]
  },
  {
   "cell_type": "code",
   "execution_count": 8,
   "metadata": {},
   "outputs": [
    {
     "name": "stdout",
     "output_type": "stream",
     "text": [
      "[0]\tvalidation_0-error:0.223958\n",
      "Will train until validation_0-error hasn't improved in 60 rounds.\n",
      "[1]\tvalidation_0-error:0.226562\n",
      "[2]\tvalidation_0-error:0.226562\n",
      "[3]\tvalidation_0-error:0.220052\n",
      "[4]\tvalidation_0-error:0.216146\n",
      "[5]\tvalidation_0-error:0.214844\n",
      "[6]\tvalidation_0-error:0.214844\n",
      "[7]\tvalidation_0-error:0.207031\n",
      "[8]\tvalidation_0-error:0.201823\n",
      "[9]\tvalidation_0-error:0.201823\n",
      "[10]\tvalidation_0-error:0.195312\n",
      "[11]\tvalidation_0-error:0.19401\n",
      "[12]\tvalidation_0-error:0.196615\n",
      "[13]\tvalidation_0-error:0.19401\n",
      "[14]\tvalidation_0-error:0.190104\n",
      "[15]\tvalidation_0-error:0.183594\n",
      "[16]\tvalidation_0-error:0.191406\n",
      "[17]\tvalidation_0-error:0.1875\n",
      "[18]\tvalidation_0-error:0.190104\n",
      "[19]\tvalidation_0-error:0.184896\n",
      "[20]\tvalidation_0-error:0.183594\n",
      "[21]\tvalidation_0-error:0.186198\n",
      "[22]\tvalidation_0-error:0.186198\n",
      "[23]\tvalidation_0-error:0.183594\n",
      "[24]\tvalidation_0-error:0.182292\n",
      "[25]\tvalidation_0-error:0.182292\n",
      "[26]\tvalidation_0-error:0.18099\n",
      "[27]\tvalidation_0-error:0.177083\n",
      "[28]\tvalidation_0-error:0.177083\n",
      "[29]\tvalidation_0-error:0.175781\n",
      "[30]\tvalidation_0-error:0.177083\n",
      "[31]\tvalidation_0-error:0.177083\n",
      "[32]\tvalidation_0-error:0.174479\n",
      "[33]\tvalidation_0-error:0.173177\n",
      "[34]\tvalidation_0-error:0.173177\n",
      "[35]\tvalidation_0-error:0.174479\n",
      "[36]\tvalidation_0-error:0.171875\n",
      "[37]\tvalidation_0-error:0.171875\n",
      "[38]\tvalidation_0-error:0.173177\n",
      "[39]\tvalidation_0-error:0.174479\n",
      "[40]\tvalidation_0-error:0.174479\n",
      "[41]\tvalidation_0-error:0.173177\n",
      "[42]\tvalidation_0-error:0.167969\n",
      "[43]\tvalidation_0-error:0.166667\n",
      "[44]\tvalidation_0-error:0.167969\n",
      "[45]\tvalidation_0-error:0.167969\n",
      "[46]\tvalidation_0-error:0.170573\n",
      "[47]\tvalidation_0-error:0.170573\n",
      "[48]\tvalidation_0-error:0.166667\n",
      "[49]\tvalidation_0-error:0.161458\n",
      "[50]\tvalidation_0-error:0.160156\n",
      "[51]\tvalidation_0-error:0.161458\n",
      "[52]\tvalidation_0-error:0.157552\n",
      "[53]\tvalidation_0-error:0.158854\n",
      "[54]\tvalidation_0-error:0.157552\n",
      "[55]\tvalidation_0-error:0.154948\n",
      "[56]\tvalidation_0-error:0.15625\n",
      "[57]\tvalidation_0-error:0.157552\n",
      "[58]\tvalidation_0-error:0.15625\n",
      "[59]\tvalidation_0-error:0.15625\n",
      "[60]\tvalidation_0-error:0.157552\n",
      "[61]\tvalidation_0-error:0.157552\n",
      "[62]\tvalidation_0-error:0.15625\n",
      "[63]\tvalidation_0-error:0.153646\n",
      "[64]\tvalidation_0-error:0.152344\n",
      "[65]\tvalidation_0-error:0.152344\n",
      "[66]\tvalidation_0-error:0.153646\n",
      "[67]\tvalidation_0-error:0.153646\n",
      "[68]\tvalidation_0-error:0.153646\n",
      "[69]\tvalidation_0-error:0.153646\n",
      "[70]\tvalidation_0-error:0.151042\n",
      "[71]\tvalidation_0-error:0.14974\n",
      "[72]\tvalidation_0-error:0.151042\n",
      "[73]\tvalidation_0-error:0.151042\n",
      "[74]\tvalidation_0-error:0.152344\n",
      "[75]\tvalidation_0-error:0.151042\n",
      "[76]\tvalidation_0-error:0.143229\n",
      "[77]\tvalidation_0-error:0.147135\n",
      "[78]\tvalidation_0-error:0.144531\n",
      "[79]\tvalidation_0-error:0.144531\n",
      "[80]\tvalidation_0-error:0.147135\n",
      "[81]\tvalidation_0-error:0.145833\n",
      "[82]\tvalidation_0-error:0.144531\n",
      "[83]\tvalidation_0-error:0.144531\n",
      "[84]\tvalidation_0-error:0.141927\n",
      "[85]\tvalidation_0-error:0.139323\n",
      "[86]\tvalidation_0-error:0.138021\n",
      "[87]\tvalidation_0-error:0.138021\n",
      "[88]\tvalidation_0-error:0.138021\n",
      "[89]\tvalidation_0-error:0.136719\n",
      "[90]\tvalidation_0-error:0.136719\n",
      "[91]\tvalidation_0-error:0.135417\n",
      "[92]\tvalidation_0-error:0.135417\n",
      "[93]\tvalidation_0-error:0.135417\n",
      "[94]\tvalidation_0-error:0.135417\n",
      "[95]\tvalidation_0-error:0.135417\n",
      "[96]\tvalidation_0-error:0.134115\n",
      "[97]\tvalidation_0-error:0.132812\n",
      "[98]\tvalidation_0-error:0.130208\n",
      "[99]\tvalidation_0-error:0.127604\n"
     ]
    },
    {
     "data": {
      "text/plain": [
       "XGBClassifier(base_score=0.5, booster='gbtree', colsample_bylevel=1,\n",
       "       colsample_bytree=1, gamma=0, learning_rate=0.1, max_delta_step=0,\n",
       "       max_depth=3, min_child_weight=1, missing=None, n_estimators=100,\n",
       "       n_jobs=1, nthread=None, objective='binary:logistic', random_state=0,\n",
       "       reg_alpha=0, reg_lambda=1, scale_pos_weight=1, seed=None,\n",
       "       silent=True, subsample=1)"
      ]
     },
     "execution_count": 8,
     "metadata": {},
     "output_type": "execute_result"
    }
   ],
   "source": [
    "eval_set = [(X, Y)] \n",
    "model.fit(X,Y, eval_metric=\"error\",early_stopping_rounds=60, eval_set=eval_set, verbose=True)"
   ]
  },
  {
   "cell_type": "code",
   "execution_count": 17,
   "metadata": {},
   "outputs": [],
   "source": [
    "import warnings\n",
    "warnings.filterwarnings(\"ignore\", category=DeprecationWarning) "
   ]
  },
  {
   "cell_type": "code",
   "execution_count": 18,
   "metadata": {},
   "outputs": [
    {
     "name": "stdout",
     "output_type": "stream",
     "text": [
      "Accuracy: 87.37%\n"
     ]
    }
   ],
   "source": [
    "y_pred = model.predict(X) \n",
    "predictions = [round(value) for value in y_pred] \n",
    "\n",
    "accuracy = accuracy_score(Y, predictions) \n",
    "print(\"Accuracy: %.2f%%\" % (accuracy * 100.0))"
   ]
  },
  {
   "cell_type": "code",
   "execution_count": null,
   "metadata": {},
   "outputs": [],
   "source": []
  }
 ],
 "metadata": {
  "kernelspec": {
   "display_name": "Python 3",
   "language": "python",
   "name": "python3"
  },
  "language_info": {
   "codemirror_mode": {
    "name": "ipython",
    "version": 3
   },
   "file_extension": ".py",
   "mimetype": "text/x-python",
   "name": "python",
   "nbconvert_exporter": "python",
   "pygments_lexer": "ipython3",
   "version": "3.6.4"
  }
 },
 "nbformat": 4,
 "nbformat_minor": 2
}
